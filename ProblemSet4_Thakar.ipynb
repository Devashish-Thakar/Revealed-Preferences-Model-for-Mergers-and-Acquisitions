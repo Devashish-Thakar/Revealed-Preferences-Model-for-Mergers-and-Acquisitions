{
 "cells": [
  {
   "cell_type": "code",
   "execution_count": 1,
   "metadata": {},
   "outputs": [],
   "source": [
    "# Defining important packages upfront\n",
    "import pandas as pd\n",
    "from functools import reduce\n",
    "import numpy as np\n",
    "import seaborn as sns\n",
    "import matplotlib\n",
    "import matplotlib.pyplot as plt\n",
    "from scipy.optimize import minimize\n",
    "import scipy.stats as stats\n",
    "import math\n",
    "import statsmodels.api as sm\n",
    "from IPython.display import Latex\n",
    "from IPython.display import Math\n",
    "import scipy\n",
    "\n",
    "# Reading in the datafile\n",
    "df=pd.read_excel('radio_merger_data.xlsx')"
   ]
  },
  {
   "cell_type": "code",
   "execution_count": 2,
   "metadata": {},
   "outputs": [],
   "source": [
    "# Creating two seperate datasets for 2007 and 2008, for ease of calculations and recombining them later:\n",
    "\n",
    "df_2007=df[df['year']==2007]\n",
    "del df_2007['year']\n",
    "df_2008=df[df['year']==2008]\n",
    "del df_2008['year']"
   ]
  },
  {
   "cell_type": "code",
   "execution_count": 3,
   "metadata": {},
   "outputs": [],
   "source": [
    "# Seperating out buyer and target data for both years, to create the permutation dataset:\n",
    "df_2007_buyer=df_2007[['buyer_id','buyer_lat','buyer_long','num_stations_buyer','corp_owner_buyer']]\n",
    "df_2007_target=df_2007[['target_id','target_lat','target_long','price','hhi_target','population_target']]\n",
    "\n",
    "df_2008_buyer=df_2008[['buyer_id','buyer_lat','buyer_long','num_stations_buyer','corp_owner_buyer']]\n",
    "df_2008_target=df_2008[['target_id','target_lat','target_long','price','hhi_target','population_target']]"
   ]
  },
  {
   "cell_type": "code",
   "execution_count": 4,
   "metadata": {},
   "outputs": [],
   "source": [
    "# Create a list of matched buyers that will be used to hypothetically exchange targets in the max. score estimation:\n",
    "list_2007=df_2007_buyer['buyer_id'].unique().tolist()\n",
    "list_2008=df_2008_buyer['buyer_id'].unique().tolist()\n",
    "\n",
    "# Importating itertools package to create buyer pairs from the list of buyers for both years\n",
    "from itertools import combinations\n",
    "\n",
    "# This part creates a column of pairs\n",
    "buyer_pairs_2007=pd.DataFrame([\",\".join(map(str, comb)) for comb in combinations(list_2007, 2)])\n",
    "buyer_pairs_2008=pd.DataFrame([\",\".join(map(str, comb)) for comb in combinations(list_2008, 2)])\n",
    "\n",
    "\n",
    "# Naming the column pairs\n",
    "buyer_pairs_2007.columns=['Pair']\n",
    "buyer_pairs_2008.columns=['Pair']\n",
    "\n",
    "\n",
    "# Splitting the pairs columnn into two columns for paired buyers\n",
    "buyer_pairs_2007[['buyer1','buyer2']]=buyer_pairs_2007['Pair'].str.split(\",\",expand=True).astype(str).astype(int)\n",
    "buyer_pairs_2008[['buyer1','buyer2']]=buyer_pairs_2008['Pair'].str.split(\",\",expand=True).astype(str).astype(int)\n",
    "\n",
    "\n",
    "# Deleting the original 'pair' column\n",
    "del buyer_pairs_2007['Pair']\n",
    "del buyer_pairs_2008['Pair']\n",
    "\n",
    "#buyer_pairs_2007['buyer1'].astype(str).astype(int)\n",
    "#buyer_pairs_2007['buyer2'].astype(str).astype(int)\n",
    "\n",
    "#buyer_pairs_2008['buyer1'].astype(str).astype(int)\n",
    "#buyer_pairs_2008['buyer2'].astype(str).astype(int)\n"
   ]
  },
  {
   "cell_type": "code",
   "execution_count": 5,
   "metadata": {},
   "outputs": [
    {
     "name": "stdout",
     "output_type": "stream",
     "text": [
      "Number of obs. in 2007 is: 990 and Number of obs. in 2008 is: 1431\n"
     ]
    }
   ],
   "source": [
    "# The 2007 dataset should have 45x44/2= 990 pairs or observations\n",
    "# The 2008 dataset should have 54x53/2=1431 pairs or observations\n",
    "print(\"Number of obs. in 2007 is:\",buyer_pairs_2007.shape[0],\"and Number of obs. in 2008 is:\",buyer_pairs_2008.shape[0])"
   ]
  },
  {
   "cell_type": "code",
   "execution_count": 6,
   "metadata": {},
   "outputs": [],
   "source": [
    "# Now for each buyer pair obs., need to pull in the variables required to calculate the max. score estimator\n",
    "# Since we have two buyers, the respective variables will be appended with _1 and _2 indicating which buyer is referre to\n",
    "\n",
    "# For 2007\n",
    "# Buyer characateristics for both pair of buyers\n",
    "Market1_2007=pd.merge(buyer_pairs_2007, df_2007_buyer, left_on='buyer1',right_on='buyer_id',how='left')\n",
    "Market2_2007=pd.merge(Market1_2007,df_2007_buyer,left_on='buyer2',right_on='buyer_id',how='left',suffixes=('_1','_2'))\n",
    "# Target characteristics for both pairs of buyers\n",
    "Market3_2007=pd.merge(Market2_2007,df_2007_target,left_on='buyer1',right_on='target_id',how='left')\n",
    "Market4_2007=pd.merge(Market3_2007,df_2007_target,left_on='buyer2',right_on='target_id',how='left',suffixes=('_1','_2'))\n",
    "\n",
    "# For 2008\n",
    "# Buyer charactsristics for both pair of buyers\n",
    "Market1_2008=pd.merge(buyer_pairs_2008, df_2008_buyer, left_on='buyer1',right_on='buyer_id',how='left')\n",
    "Market2_2008=pd.merge(Market1_2008,df_2008_buyer,left_on='buyer2',right_on='buyer_id',how='left',suffixes=('_1','_2'))\n",
    "# Target charactsristics for both pair of buyers\n",
    "Market3_2008=pd.merge(Market2_2008,df_2008_target,left_on='buyer1',right_on='target_id',how='left')\n",
    "Market4_2008=pd.merge(Market3_2008,df_2008_target,left_on='buyer2',right_on='target_id',how='left',suffixes=('_1','_2'))\n",
    "\n"
   ]
  },
  {
   "cell_type": "code",
   "execution_count": 7,
   "metadata": {},
   "outputs": [
    {
     "name": "stderr",
     "output_type": "stream",
     "text": [
      "C:\\Users\\Devashish\\Anaconda3_1\\lib\\site-packages\\ipykernel_launcher.py:9: FutureWarning: set_value is deprecated and will be removed in a future release. Please use .at[] or .iat[] accessors instead\n",
      "  if __name__ == '__main__':\n",
      "C:\\Users\\Devashish\\Anaconda3_1\\lib\\site-packages\\ipykernel_launcher.py:14: FutureWarning: set_value is deprecated and will be removed in a future release. Please use .at[] or .iat[] accessors instead\n",
      "  \n",
      "C:\\Users\\Devashish\\Anaconda3_1\\lib\\site-packages\\ipykernel_launcher.py:19: FutureWarning: set_value is deprecated and will be removed in a future release. Please use .at[] or .iat[] accessors instead\n",
      "C:\\Users\\Devashish\\Anaconda3_1\\lib\\site-packages\\ipykernel_launcher.py:24: FutureWarning: set_value is deprecated and will be removed in a future release. Please use .at[] or .iat[] accessors instead\n",
      "C:\\Users\\Devashish\\Anaconda3_1\\lib\\site-packages\\ipykernel_launcher.py:34: FutureWarning: set_value is deprecated and will be removed in a future release. Please use .at[] or .iat[] accessors instead\n",
      "C:\\Users\\Devashish\\Anaconda3_1\\lib\\site-packages\\ipykernel_launcher.py:39: FutureWarning: set_value is deprecated and will be removed in a future release. Please use .at[] or .iat[] accessors instead\n",
      "C:\\Users\\Devashish\\Anaconda3_1\\lib\\site-packages\\ipykernel_launcher.py:44: FutureWarning: set_value is deprecated and will be removed in a future release. Please use .at[] or .iat[] accessors instead\n",
      "C:\\Users\\Devashish\\Anaconda3_1\\lib\\site-packages\\ipykernel_launcher.py:49: FutureWarning: set_value is deprecated and will be removed in a future release. Please use .at[] or .iat[] accessors instead\n"
     ]
    }
   ],
   "source": [
    "# Calculate the distances for observed and couterfactual buyer-targets\n",
    "import geopy\n",
    "from geopy.distance import vincenty\n",
    "\n",
    "# For 2007\n",
    "# Distance of first buyer pair and its original target\n",
    "for index, row in Market4_2007.iterrows():\n",
    "    Distance11=geopy.distance.geodesic((row['buyer_lat_1'],row['buyer_long_1']), (row['target_lat_1'],row['target_long_1'])).miles\n",
    "    Market4_2007.set_value(index, 'Distance11',Distance11)\n",
    "\n",
    "# Distance of second buyer pair and its original target\n",
    "for index, row in Market4_2007.iterrows():\n",
    "    Distance22=geopy.distance.geodesic((row['buyer_lat_2'],row['buyer_long_2']), (row['target_lat_2'],row['target_long_2'])).miles\n",
    "    Market4_2007.set_value(index, 'Distance22',Distance22)\n",
    "\n",
    "# Distance of first buyer pair and its counterfactual target (original target of second of buyer pair)\n",
    "for index, row in Market4_2007.iterrows():\n",
    "    Distance12=geopy.distance.geodesic((row['buyer_lat_1'],row['buyer_long_1']), (row['target_lat_2'],row['target_long_2'])).miles\n",
    "    Market4_2007.set_value(index, 'Distance12',Distance12)\n",
    "\n",
    "# Distance of second buyer pair and its counterfactual target (original target of first of buyer pair)\n",
    "for index, row in Market4_2007.iterrows():\n",
    "    Distance21=geopy.distance.geodesic((row['buyer_lat_2'],row['buyer_long_2']), (row['target_lat_1'],row['target_long_1'])).miles\n",
    "    Market4_2007.set_value(index, 'Distance21',Distance21)\n",
    "\n",
    "\n",
    "    \n",
    "\n",
    "# For 2008\n",
    "\n",
    "# Distance of first buyer pair and its original target\n",
    "for index, row in Market4_2008.iterrows():\n",
    "    Distance11=geopy.distance.geodesic((row['buyer_lat_1'],row['buyer_long_1']), (row['target_lat_1'],row['target_long_1'])).miles\n",
    "    Market4_2008.set_value(index, 'Distance11',Distance11)\n",
    "\n",
    "# Distance of second buyer pair and its original target\n",
    "for index, row in Market4_2008.iterrows():\n",
    "    Distance22=geopy.distance.geodesic((row['buyer_lat_2'],row['buyer_long_2']), (row['target_lat_2'],row['target_long_2'])).miles\n",
    "    Market4_2008.set_value(index, 'Distance22',Distance22)\n",
    "\n",
    "# Distance of first buyer pair and its counterfactual target (original target of second of buyer pair)\n",
    "for index, row in Market4_2008.iterrows():\n",
    "    Distance12=geopy.distance.geodesic((row['buyer_lat_1'],row['buyer_long_1']), (row['target_lat_2'],row['target_long_2'])).miles\n",
    "    Market4_2008.set_value(index, 'Distance12',Distance12)\n",
    "    \n",
    "# Distance of second buyer pair and its counterfactual target (original target of first of buyer pair)\n",
    "for index, row in Market4_2008.iterrows():\n",
    "    Distance21=geopy.distance.geodesic((row['buyer_lat_2'],row['buyer_long_2']), (row['target_lat_1'],row['target_long_1'])).miles\n",
    "    Market4_2008.set_value(index, 'Distance21',Distance21)\n",
    "\n",
    "\n"
   ]
  },
  {
   "cell_type": "code",
   "execution_count": 8,
   "metadata": {},
   "outputs": [],
   "source": [
    "# Now I calculate the variables used in the inquality used for max. score estimation\n",
    "\n",
    "# Also, since I have calculated the pairs in 2007 and 2008 market, I append those dataframes to form a single dataframe:\n",
    "Market=Market4_2007.append(Market4_2008, ignore_index=True)"
   ]
  },
  {
   "cell_type": "code",
   "execution_count": 9,
   "metadata": {},
   "outputs": [],
   "source": [
    "# Defining the Maximum Score Estimator Function:\n",
    "\n",
    "def MSE(params, data):\n",
    "    '''\n",
    "    Args for this function are the data and initial parameter guess (not req. for differential evolution)\n",
    "    '''\n",
    "    alpha, beta=params[0], params[1]\n",
    "    MSE=0\n",
    "    \n",
    "    '''\n",
    "    LHS1 and LHS2 are the value of observed merger values for buyer1 and 2 respectively \n",
    "    These two form the left hand side of the MSE inquality\n",
    "    \n",
    "    RHS1 and RHS2 are the value of counterfactual merger (buyer 1 with buyer 2's target and buyer 2 with buyer 1's target)\n",
    "    These two form the right hand side of the MSE inquality\n",
    "    '''\n",
    "    \n",
    "    for index, row in data.iterrows():\n",
    "        LHS1= row['num_stations_buyer_1'] * row['population_target_1'] + alpha * row['corp_owner_buyer_1'] * row['population_target_1'] +  beta * row['Distance11'] \n",
    "        \n",
    "        LHS2= row['num_stations_buyer_2'] * row['population_target_2'] + alpha * row['corp_owner_buyer_2'] * row['population_target_2'] + beta * row['Distance22']\n",
    "        \n",
    "        LHS=LHS1 + LHS2\n",
    "        \n",
    "        \n",
    "        RHS1= row['num_stations_buyer_1'] * row['population_target_2'] + alpha * row['corp_owner_buyer_1'] * row['population_target_2'] + beta * row['Distance12'] \n",
    "        \n",
    "        RHS2= row['num_stations_buyer_2'] * row['population_target_1'] + alpha * row['corp_owner_buyer_2'] * row['population_target_1'] + beta * row['Distance21']\n",
    "        \n",
    "        RHS=RHS1 + RHS2\n",
    "        \n",
    "        '''\n",
    "        If the value of observed mergers (LHS) is greater than couterfactual mergers (RHS), the MSE increassed by 1\n",
    "        and since I minizmize the score, I use -1*MSE\n",
    "        '''\n",
    "        \n",
    "        if LHS >= RHS:\n",
    "            MSE= MSE + 1\n",
    "            \n",
    "    return(-1*MSE)\n",
    "\n",
    "        "
   ]
  },
  {
   "cell_type": "code",
   "execution_count": 45,
   "metadata": {},
   "outputs": [
    {
     "name": "stdout",
     "output_type": "stream",
     "text": [
      "Optimization terminated successfully.\n",
      "         Current function value: -2261.000000\n",
      "         Iterations: 50\n",
      "         Function evaluations: 145\n"
     ]
    }
   ],
   "source": [
    "# Using Nelder-Mead for part 1\n",
    "param_guess=(1700, 1700)\n",
    "results1_NM=minimize(MSE, param_guess,\n",
    "                 method='Nelder-Mead',\n",
    "                 args=(Market),\n",
    "                 options={'disp':True})"
   ]
  },
  {
   "cell_type": "code",
   "execution_count": 46,
   "metadata": {},
   "outputs": [
    {
     "data": {
      "text/plain": [
       "array([  66895., -128690.])"
      ]
     },
     "execution_count": 46,
     "metadata": {},
     "output_type": "execute_result"
    }
   ],
   "source": [
    "results1_NM.x"
   ]
  },
  {
   "cell_type": "code",
   "execution_count": 69,
   "metadata": {},
   "outputs": [],
   "source": [
    "# Using Differential Evolution for part 1\n",
    "results1_DE=scipy.optimize.differential_evolution(MSE, strategy='best1bin',args=(Market, ),bounds=[(-30000,30000),(-30000,30000)])"
   ]
  },
  {
   "cell_type": "code",
   "execution_count": 70,
   "metadata": {},
   "outputs": [
    {
     "data": {
      "text/plain": [
       "     fun: -2249.0\n",
       " message: 'Optimization terminated successfully.'\n",
       "    nfev: 123\n",
       "     nit: 3\n",
       " success: True\n",
       "       x: array([   675.32250883, -29370.51377636])"
      ]
     },
     "execution_count": 70,
     "metadata": {},
     "output_type": "execute_result"
    }
   ],
   "source": [
    "results1_DE"
   ]
  },
  {
   "cell_type": "code",
   "execution_count": 10,
   "metadata": {},
   "outputs": [],
   "source": [
    "# Defining the Maximum Score Estimator Function with transfer:\n",
    "\n",
    "def MSE_transfer(params, data):\n",
    "    delta, alpha, gamma, beta= params[0], params[1], params[2], params[3]\n",
    "    MSE=0\n",
    "    '''\n",
    "    LHS1 and LHS2 are the value of observed merger values for buyer1 and 2 respectively \n",
    "    These two form the left hand side of the MSE inquality\n",
    "    Simialr to the MSE, but this time included the HHI and also parameterized the first term\n",
    "    \n",
    "    RHS1 and RHS2 are the value of counterfactual merger (buyer 1 with buyer 2's target and buyer 2 with buyer 1's target)\n",
    "    These two form the right hand side of the MSE inquality\n",
    "    Simialr to the MSE, but this time included the HHI and also parameterized the first term\n",
    "    '''\n",
    "    \n",
    "    \n",
    "    for index, row in data.iterrows():\n",
    "        LHS1= delta * row['num_stations_buyer_1'] * row['population_target_1'] + alpha * row['corp_owner_buyer_1'] * row['population_target_1'] + gamma * row['hhi_target_1'] + beta * row['Distance11'] \n",
    "        \n",
    "        LHS2= delta * row['num_stations_buyer_2'] * row['population_target_2'] + alpha * row['corp_owner_buyer_2'] * row['population_target_2'] + gamma * row['hhi_target_2'] + beta * row['Distance22']\n",
    "        \n",
    "        \n",
    "        \n",
    "        RHS1= delta * row['num_stations_buyer_1'] * row['population_target_2'] + alpha * row['corp_owner_buyer_1'] * row['population_target_2'] + gamma * row['hhi_target_2'] + beta * row['Distance12'] \n",
    "        \n",
    "        RHS2= delta * row['num_stations_buyer_2'] * row['population_target_1'] + alpha * row['corp_owner_buyer_2'] * row['population_target_1'] + gamma * row['hhi_target_1'] + beta * row['Distance21']\n",
    "        \n",
    "        '''\n",
    "        Similar value comparison of observed and counterfactual mergers, just that the transfer pricing condition \n",
    "        is also included. This means that if \n",
    "        1) the difference in merger value between buyer 1's observed and couterfactual merger\n",
    "        is greater than the price it differential of observed and counterfactual merger\n",
    "        2) the difference in merger value between buyer 2's observed and counterfactual merger\n",
    "        is greater than the price differential of oberved and counterfactual merger, then\n",
    "        the parameters satisfy the MSE inquality\n",
    "        '''\n",
    "        \n",
    "        if ((LHS1 - RHS1) >= (row['price_1'] - row['price_2'])) & ((LHS2 - RHS2) >= (row['price_2'] - row['price_1'])):\n",
    "            MSE= MSE + 1\n",
    "            \n",
    "    return( -1 * MSE)\n",
    "\n",
    "        "
   ]
  },
  {
   "cell_type": "code",
   "execution_count": 11,
   "metadata": {},
   "outputs": [],
   "source": [
    "# Using Differential Evolution for part 2 ( price transfers)\n",
    "import scipy\n",
    "results2_DE=scipy.optimize.differential_evolution(MSE_transfer, strategy='best1bin',args=(Market, ),bounds=[(-20000,20000),(-30000,30000),(-20000,20000),(-30000,30000)])"
   ]
  },
  {
   "cell_type": "code",
   "execution_count": 12,
   "metadata": {},
   "outputs": [
    {
     "data": {
      "text/plain": [
       "     fun: -1796.0\n",
       " message: 'Optimization terminated successfully.'\n",
       "    nfev: 1325\n",
       "     nit: 21\n",
       " success: True\n",
       "       x: array([ 3.77446129e+00,  8.27614722e+03, -2.57249866e+03, -2.46215036e+04])"
      ]
     },
     "execution_count": 12,
     "metadata": {},
     "output_type": "execute_result"
    }
   ],
   "source": [
    "results2_DE"
   ]
  },
  {
   "cell_type": "code",
   "execution_count": null,
   "metadata": {},
   "outputs": [],
   "source": []
  }
 ],
 "metadata": {
  "kernelspec": {
   "display_name": "Python 3",
   "language": "python",
   "name": "python3"
  },
  "language_info": {
   "codemirror_mode": {
    "name": "ipython",
    "version": 3
   },
   "file_extension": ".py",
   "mimetype": "text/x-python",
   "name": "python",
   "nbconvert_exporter": "python",
   "pygments_lexer": "ipython3",
   "version": "3.7.3"
  }
 },
 "nbformat": 4,
 "nbformat_minor": 2
}
